{
 "cells": [
  {
   "cell_type": "code",
   "execution_count": null,
   "metadata": {},
   "outputs": [],
   "source": [
    "# This file is used by get_new_raw_file.py to create a report after checking a new download.  To make this work nicely,\n",
    "# you should use the 'hide-input-all' nbextension and before get_new_raw_file, enable hide all, reset and clear\n",
    "# all cells, save the sheet, and CLose and Halt.  "
   ]
  },
  {
   "cell_type": "code",
   "execution_count": null,
   "metadata": {},
   "outputs": [],
   "source": [
    "from math import log10, floor\n",
    "def round_sig(x, sig=2):\n",
    "    try:\n",
    "        if abs(x)>=1:\n",
    "            out =  int(round(x, sig-int(floor(log10(abs(x))))-1))\n",
    "            return f\"{out:,d}\" # does the right thing with commas\n",
    "        else: # fractional numbers\n",
    "            return str(round(x, sig-int(floor(log10(abs(x))))-1))\n",
    "    except:\n",
    "        return x"
   ]
  },
  {
   "cell_type": "code",
   "execution_count": null,
   "metadata": {},
   "outputs": [],
   "source": [
    "#preamble to analysis\n",
    "import pandas as pd\n",
    "import numpy as np\n",
    "import matplotlib.pyplot as plt\n",
    "%matplotlib inline\n",
    "import seaborn as sns\n",
    "import matplotlib.ticker\n",
    "from IPython.display import Markdown as md\n",
    "from time import sleep\n",
    "from datetime import datetime\n",
    "now = datetime.now()\n",
    "today = str(datetime.today())\n",
    "today = today.split()[0]"
   ]
  },
  {
   "cell_type": "code",
   "execution_count": null,
   "metadata": {},
   "outputs": [],
   "source": [
    "md(\"Note that if you have visited this page before, you may need to clear your browser's queue for the most recent results.  For many browsers, you can just type 'Ctrl-F5'\")"
   ]
  },
  {
   "cell_type": "code",
   "execution_count": null,
   "metadata": {},
   "outputs": [],
   "source": [
    "md(f'# FracFocus bulk download summary report for {today}')"
   ]
  },
  {
   "cell_type": "code",
   "execution_count": null,
   "metadata": {},
   "outputs": [],
   "source": [
    "sources = './sources/'\n",
    "datefn= './out/upload_dates.csv'\n",
    "currfn = 'testData'\n",
    "outdir = './out/'\n",
    "tempfolder = './tmp/'\n",
    "webworkfolder = './website_gen/'\n",
    "zfilename = 'testData'\n",
    "\n",
    "updates = pd.read_csv(datefn)\n",
    "updates['dt_added'] = pd.to_datetime(updates.date_added)\n",
    "updates['days_old'] = (now - updates.dt_added).dt.days\n",
    "new_upk = updates[updates.date_added==today].UploadKey.tolist()\n",
    "month_upk = updates[updates.days_old<31].UploadKey.tolist()\n",
    "#print(new_upk)\n",
    "md(f'### Number of new disclosures added yesterday: {len(new_upk)}')\n"
   ]
  },
  {
   "cell_type": "code",
   "execution_count": null,
   "metadata": {},
   "outputs": [],
   "source": [
    "# First lets make today's list\n",
    "\n",
    "import core.Construct_set as const_set\n",
    "t = const_set.Construct_set(fromScratch=False,\n",
    "                            zfilename=zfilename,\n",
    "                            sources=sources,\n",
    "                            outdir=outdir,\n",
    "                            tempfolder=tempfolder).get_full_set();\n",
    "df = t.tables['allrec'].get_df()\n",
    "# locat = t.get_df_location()[['UploadKey','StateName','CountyName',\n",
    "#                              'iOperatorName','iUploadKey','TotalBaseWaterVolume',\n",
    "#                              'FederalWell']]\n",
    "locat = t.tables['event'].get_df()[['UploadKey','StateName','CountyName',\n",
    "                                    'iOperatorName','iUploadKey','TotalBaseWaterVolume',\n",
    "                                    'FederalWell']]\n",
    "df = pd.merge(df,locat,on='iUploadKey',how='left')\n",
    "todaydf = df[df.UploadKey.isin(new_upk)]\n",
    "opdf = t.tables['operator'].get_df()\n",
    "todaydf = pd.merge(todaydf,opdf,on='iOperatorName',how='left')"
   ]
  },
  {
   "cell_type": "code",
   "execution_count": null,
   "metadata": {},
   "outputs": [],
   "source": [
    "# md(\"\"\"The following list is the most recently published fracking events. Note that these are still\n",
    "# raw names and numbers and have not yet been checked for validity.\"\"\")"
   ]
  },
  {
   "cell_type": "code",
   "execution_count": null,
   "metadata": {
    "scrolled": true
   },
   "outputs": [],
   "source": [
    "gb = todaydf.groupby(['UploadKey','StateName'],as_index=False)[['CountyName',\n",
    "                                                           'OperatorName',\n",
    "                                                  'TotalBaseWaterVolume','FederalWell']].first()\n",
    "tmp1 = gb.groupby(['StateName','CountyName','OperatorName'],as_index=False)['UploadKey'].count()\n",
    "tmp1.rename({'UploadKey':'num_new_Disclosures'},inplace=True,axis=1)\n",
    "tmp2 = gb.groupby(['StateName','CountyName','OperatorName'],\n",
    "          as_index=False)['TotalBaseWaterVolume'].mean()\n",
    "tmp2.rename({'TotalBaseWaterVolume':'mean_Water_Used_gal'},axis=1,inplace=True)\n",
    "tmp2.mean_Water_Used_gal = tmp2.mean_Water_Used_gal.map(lambda x: round_sig(x,3))\n",
    "out = pd.merge(tmp1,tmp2,on=['StateName','CountyName','OperatorName'],how='left')\n",
    "\n",
    "if len(out)>0:\n",
    "    display(md(\"\"\"The following list is the most recently published fracking events. Note that these are still\n",
    "raw names and numbers and have not yet been checked for validity.\"\"\"))\n",
    "    display(out)\n"
   ]
  },
  {
   "cell_type": "code",
   "execution_count": null,
   "metadata": {},
   "outputs": [],
   "source": [
    "if len(gb)>0:\n",
    "    gb['Water_vol_gallons'] = gb.TotalBaseWaterVolume.map(lambda x: round_sig(x,3))\n",
    "    if gb.FederalWell.sum()>0:\n",
    "        display(md('# Disclosures published yesterday for fracking on US Federal lands'))\n",
    "        display(gb[gb.FederalWell][['StateName','CountyName','OperatorName','Water_vol_gallons']])\n",
    "    else:\n",
    "        display(md('None of the disclosures above are on Federal Lands.'))\n"
   ]
  },
  {
   "cell_type": "code",
   "execution_count": null,
   "metadata": {},
   "outputs": [],
   "source": [
    "md(f'## Water use reported in disclosures in the past 30 days')"
   ]
  },
  {
   "cell_type": "code",
   "execution_count": null,
   "metadata": {},
   "outputs": [],
   "source": [
    "monthdf = df[df.UploadKey.isin(month_upk)]\n",
    "# opdf = t.tables['operator'].get_df()\n",
    "monthdf = pd.merge(monthdf,opdf,on='iOperatorName',how='left')\n",
    "monthdf = pd.merge(monthdf,updates,on='UploadKey',how='left')\n",
    "# monthdf.columns\n",
    "\n",
    "import seaborn as sns\n",
    "sns.set(style=\"whitegrid\")\n",
    "monthdf = monthdf.groupby('UploadKey',as_index=False)[['TotalBaseWaterVolume','StateName']].first()\n",
    "sn = monthdf.groupby('StateName',as_index=False)['UploadKey'].count().astype('str')\n",
    "sn.columns = ['StateName', 'cnt']\n",
    "monthdf = pd.merge(monthdf,sn,on='StateName',how='left')\n",
    "monthdf['State_Num'] = monthdf.StateName+'__'+monthdf.cnt\n",
    "monthdf = monthdf.sort_values('cnt',ascending=False)\n",
    "fig = plt.figure(figsize=(16,10))\n",
    "ax = sns.stripplot(monthdf.TotalBaseWaterVolume,monthdf.State_Num,jitter=.2,alpha=.4,size=10)\n",
    "plt.xlabel(f'water volume (gallons):',fontsize=14);\n",
    "plt.title(f'Water Use for events published in the last 30 days',fontsize=16)\n",
    "ax.set(xscale='log')\n",
    "ax.set(xlim=(max(1000,monthdf.TotalBaseWaterVolume.min()),monthdf.TotalBaseWaterVolume.max()*1.1))\n",
    "ax.grid(axis='y')\n",
    "ax.tick_params(axis=\"x\", labelsize=14)\n",
    "ax.tick_params(axis=\"y\", labelsize=14)\n",
    "locmaj = matplotlib.ticker.LogLocator(base=10,subs='all') \n",
    "ax.xaxis.set_major_locator(locmaj)"
   ]
  },
  {
   "cell_type": "code",
   "execution_count": null,
   "metadata": {},
   "outputs": [],
   "source": []
  }
 ],
 "metadata": {
  "hide_input": true,
  "kernelspec": {
   "display_name": "Python 3",
   "language": "python",
   "name": "python3"
  },
  "language_info": {
   "codemirror_mode": {
    "name": "ipython",
    "version": 3
   },
   "file_extension": ".py",
   "mimetype": "text/x-python",
   "name": "python",
   "nbconvert_exporter": "python",
   "pygments_lexer": "ipython3",
   "version": "3.8.1"
  }
 },
 "nbformat": 4,
 "nbformat_minor": 2
}
