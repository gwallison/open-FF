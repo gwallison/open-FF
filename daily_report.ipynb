{
 "cells": [
  {
   "cell_type": "code",
   "execution_count": null,
   "metadata": {},
   "outputs": [],
   "source": [
    "# This file is used by get_new_raw_file.py to create a report after checking a new download.  To make this work nicely,\n",
    "# you should use the 'hide-input-all' nbextension and before get_new_raw_file, enable hide all, reset and clear\n",
    "# all cells, save the sheet, and CLose and Halt.  "
   ]
  },
  {
   "cell_type": "code",
   "execution_count": null,
   "metadata": {},
   "outputs": [],
   "source": [
    "from math import log10, floor\n",
    "def round_sig(x, sig=2):\n",
    "    if abs(x)>=1:\n",
    "        out =  int(round(x, sig-int(floor(log10(abs(x))))-1))\n",
    "        return f\"{out:,d}\" # does the right thing with commas\n",
    "    else: # fractional numbers\n",
    "        return str(round(x, sig-int(floor(log10(abs(x))))-1))\n",
    "        "
   ]
  },
  {
   "cell_type": "code",
   "execution_count": null,
   "metadata": {},
   "outputs": [],
   "source": [
    "#preamble to analysis\n",
    "import pandas as pd\n",
    "import numpy as np\n",
    "import matplotlib.pyplot as plt\n",
    "%matplotlib inline\n",
    "import seaborn as sns\n",
    "import matplotlib.ticker\n",
    "from IPython.display import Markdown as md\n",
    "from time import sleep\n",
    "from datetime import datetime\n",
    "today = str(datetime.today())\n",
    "today = today.split()[0]"
   ]
  },
  {
   "cell_type": "code",
   "execution_count": null,
   "metadata": {},
   "outputs": [],
   "source": [
    "md(f'# FracFocus bulk download summary report for {today}')"
   ]
  },
  {
   "cell_type": "code",
   "execution_count": null,
   "metadata": {},
   "outputs": [],
   "source": [
    "sources = './sources/'\n",
    "datefn= './out/upload_dates.csv'\n",
    "currfn = 'testData'\n",
    "outdir = './out/'\n",
    "tempfolder = './tmp/'\n",
    "webworkfolder = './website_gen/'\n",
    "zfilename = 'testData'\n",
    "\n",
    "updates = pd.read_csv(datefn)\n",
    "new_upk = updates[updates.date_added==today].UploadKey.tolist()\n",
    "#print(new_upk)\n",
    "md(f'### Number of new disclosures added today: {len(new_upk)}')\n"
   ]
  },
  {
   "cell_type": "code",
   "execution_count": null,
   "metadata": {},
   "outputs": [],
   "source": [
    "import core.Construct_set as const_set\n",
    "t = const_set.Construct_set(fromScratch=False,\n",
    "                            zfilename=zfilename,\n",
    "                            sources=sources,\n",
    "                            outdir=outdir,\n",
    "                            tempfolder=tempfolder).get_full_set();\n",
    "df = t.tables['allrec'].get_df()\n",
    "locat = t.get_df_location()[['UploadKey','StateName','CountyName',\n",
    "                             'iOperatorName','iUploadKey','TotalBaseWaterVolume']]\n",
    "#print(len(df), df.columns)\n",
    "df = pd.merge(df,locat,on='iUploadKey',how='left')\n",
    "#print(len(df), df.head())\n",
    "df = df[df.UploadKey.isin(new_upk)]\n",
    "#print(len(df), df.columns)\n",
    "opdf = t.tables['operator'].get_df()\n",
    "df = pd.merge(df,opdf,on='iOperatorName',how='left')"
   ]
  },
  {
   "cell_type": "code",
   "execution_count": null,
   "metadata": {},
   "outputs": [],
   "source": [
    "md(\"\"\"The following list is the most recently published fracking events. Note that these are still\n",
    "raw names and numbers and have not yet been checked for validity.\"\"\")"
   ]
  },
  {
   "cell_type": "code",
   "execution_count": null,
   "metadata": {
    "scrolled": true
   },
   "outputs": [],
   "source": [
    "gb = df.groupby(['UploadKey','StateName'],as_index=False)[['CountyName',\n",
    "                                                           'OperatorName',\n",
    "                                                  'TotalBaseWaterVolume']].first()\n",
    "tmp1 = gb.groupby(['StateName','CountyName','OperatorName'],as_index=False)['UploadKey'].count()\n",
    "tmp1.rename({'UploadKey':'Disclosure_cnt'},inplace=True,axis=1)\n",
    "tmp2 = gb.groupby(['StateName','CountyName','OperatorName'],\n",
    "          as_index=False)['TotalBaseWaterVolume'].mean()\n",
    "tmp2.rename({'TotalBaseWaterVolume':'mean_Water_Used'},axis=1,inplace=True)\n",
    "tmp2.mean_Water_Used = tmp2.mean_Water_Used.map(lambda x: round_sig(x,3))\n",
    "out = pd.merge(tmp1,tmp2,on=['StateName','CountyName','OperatorName'],how='left')\n",
    "\n",
    "out"
   ]
  }
 ],
 "metadata": {
  "hide_input": true,
  "kernelspec": {
   "display_name": "Python 3",
   "language": "python",
   "name": "python3"
  },
  "language_info": {
   "codemirror_mode": {
    "name": "ipython",
    "version": 3
   },
   "file_extension": ".py",
   "mimetype": "text/x-python",
   "name": "python",
   "nbconvert_exporter": "python",
   "pygments_lexer": "ipython3",
   "version": "3.8.1"
  }
 },
 "nbformat": 4,
 "nbformat_minor": 2
}
